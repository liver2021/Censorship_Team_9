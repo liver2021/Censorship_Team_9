{
 "cells": [
  {
   "cell_type": "code",
   "execution_count": 61,
   "id": "aae8b4ec-5d59-4c26-8e86-29bd5aabce63",
   "metadata": {},
   "outputs": [],
   "source": [
    "import pandas as pd \n",
    "http_c_mean = []\n",
    "http_diff_mean = []\n",
    "dns_mean = []\n",
    "tcp_ip_mean = []\n",
    "EU_names = ['Germany', 'France', 'Austria', 'Belgium', 'Bulgaria', 'Croatia', 'Cyprus', 'Denmark', 'Estonia', 'Finland', 'Greece', 'Hungary', 'Ireland', 'Italy', 'Lithuania', 'Luxembourg', 'Malta', 'Netherlands', 'Poland', 'Portugal', 'Romania', 'Slovakia', 'Slovenia', 'Spain', 'Sweden']\n",
    "\n",
    "EU_countries = [\"DE\",\"FR\",'AT','BE','BG','HR','CY','DK', 'EE','FI','GR','HU','IE','IT','LT','LU','MT','NL','PL','PT','RO','SK','SI','ES','SE']\n",
    "years = [2024]\n",
    "dict ={}\n",
    "columns = ['http_count','http_diff_count','dns_count','tcp_ip_count','NaN_count']\n",
    "for country in EU_countries:\n",
    "    for year in years:\n",
    "        try:\n",
    "            file_path = f'/Users/macintosh/OONI_Project/block_{country}_{year}.csv'\n",
    "            file = pd.read_csv(file_path)\n",
    "            means = round(file[columns].mean())\n",
    "            http_c_mean.append(means[0])\n",
    "            http_diff_mean.append(means[1])\n",
    "            dns_mean.append(means[2])\n",
    "            tcp_ip_mean.append(means[3])\n",
    "        \n",
    "        except FileNotFoundError:\n",
    "            \n",
    "            http_c_mean.append(0.0)\n",
    "            http_diff_mean.append(0.0)\n",
    "            dns_mean.append(0.0)\n",
    "            tcp_ip_mean.append(0.0)\n",
    "            \n",
    "dict[\"http_c_mean\"] = http_c_mean\n",
    "dict[\"http_diff_mean\"] = http_diff_mean\n",
    "dict[\"dns_mean\"] = dns_mean\n",
    "dict[\"tcp_ip_mean\"] = tcp_ip_mean\n",
    "dict[\"country\"] = EU_names\n",
    "\n",
    "mean_compare = pd.DataFrame(dict)\n",
    "csv_file_path = '/Users/macintosh/OONI_Project/compare.csv'\n",
    "mean_compare.to_csv(csv_file_path, index=False)\n"
   ]
  },
  {
   "cell_type": "code",
   "execution_count": null,
   "id": "80a95e00-3dfe-4ce0-82cf-2b675a11df63",
   "metadata": {},
   "outputs": [],
   "source": []
  }
 ],
 "metadata": {
  "kernelspec": {
   "display_name": "Python 3 (ipykernel)",
   "language": "python",
   "name": "python3"
  },
  "language_info": {
   "codemirror_mode": {
    "name": "ipython",
    "version": 3
   },
   "file_extension": ".py",
   "mimetype": "text/x-python",
   "name": "python",
   "nbconvert_exporter": "python",
   "pygments_lexer": "ipython3",
   "version": "3.11.7"
  }
 },
 "nbformat": 4,
 "nbformat_minor": 5
}
